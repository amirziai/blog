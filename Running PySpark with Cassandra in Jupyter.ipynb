{
 "cells": [
  {
   "cell_type": "markdown",
   "metadata": {},
   "source": [
    "# Running PySpark with Cassandra in Jupyter"
   ]
  },
  {
   "cell_type": "markdown",
   "metadata": {},
   "source": [
    "Blog post is available at: https://medium.com/@amirziai/running-pyspark-with-cassandra-in-jupyter-2bf5e95c319#.1zhdl0ovk"
   ]
  },
  {
   "cell_type": "markdown",
   "metadata": {},
   "source": [
    "### Pre-requisite"
   ]
  },
  {
   "cell_type": "markdown",
   "metadata": {},
   "source": [
    "### Create a bash script to run Jupyter"
   ]
  },
  {
   "cell_type": "code",
   "execution_count": 118,
   "metadata": {
    "collapsed": false
   },
   "outputs": [
    {
     "name": "stdout",
     "output_type": "stream",
     "text": [
      "Writing start_jupyter_cassandra.sh\n"
     ]
    }
   ],
   "source": [
    "%%writefile start_jupyter_cassandra.sh\n",
    "\n",
    "#!/bin/bash\n",
    "\n",
    "cd $SPARK_HOME/python/pyspark/\n",
    "export IPYTHON_OPTS=\"notebook\"\n",
    "pyspark --jars /home/ec2-user/pyspark-cassandra/target/scala-2.10/pyspark-cassandra-assembly-0.2.7.jar --driver-class-path /home/ec2-user/pyspark-cassandra/target/scala-2.10/pyspark-cassandra-assembly-0.2.7.jar --conf spark.cassandra.connection.host=10.0.0.0 &> /dev/null &"
   ]
  },
  {
   "cell_type": "markdown",
   "metadata": {},
   "source": [
    "#### Make the script executable"
   ]
  },
  {
   "cell_type": "code",
   "execution_count": 122,
   "metadata": {
    "collapsed": true
   },
   "outputs": [],
   "source": [
    "!chmod a+x start_jupyter_cassandra.sh"
   ]
  },
  {
   "cell_type": "markdown",
   "metadata": {},
   "source": [
    "#### Now run the script in your terminal"
   ]
  },
  {
   "cell_type": "markdown",
   "metadata": {},
   "source": [
    "Make sure you run this first so the JAR and connection host are enabled\n",
    "```\n",
    "./start_jupyer_cassandra.sh\n",
    "```"
   ]
  },
  {
   "cell_type": "markdown",
   "metadata": {},
   "source": [
    "### Start"
   ]
  },
  {
   "cell_type": "code",
   "execution_count": 1,
   "metadata": {
    "collapsed": false
   },
   "outputs": [
    {
     "data": {
      "text/plain": [
       "<pyspark.context.SparkContext at 0x7fbb28107890>"
      ]
     },
     "execution_count": 1,
     "metadata": {},
     "output_type": "execute_result"
    }
   ],
   "source": [
    "sc"
   ]
  },
  {
   "cell_type": "code",
   "execution_count": 2,
   "metadata": {
    "collapsed": true
   },
   "outputs": [],
   "source": [
    "import pyspark_cassandra"
   ]
  },
  {
   "cell_type": "code",
   "execution_count": 3,
   "metadata": {
    "collapsed": false
   },
   "outputs": [
    {
     "data": {
      "text/plain": [
       "<pyspark_cassandra.context.CassandraSparkContext at 0x7fbb28107890>"
      ]
     },
     "execution_count": 3,
     "metadata": {},
     "output_type": "execute_result"
    }
   ],
   "source": [
    "sc"
   ]
  },
  {
   "cell_type": "code",
   "execution_count": 4,
   "metadata": {
    "collapsed": true
   },
   "outputs": [],
   "source": [
    "def get_table(key_space, table):\n",
    "    return sc.cassandraTable(key_space, table)"
   ]
  },
  {
   "cell_type": "code",
   "execution_count": 5,
   "metadata": {
    "collapsed": false
   },
   "outputs": [],
   "source": [
    "table = get_table('key_sapce', 'table')"
   ]
  },
  {
   "cell_type": "code",
   "execution_count": 7,
   "metadata": {
    "collapsed": false
   },
   "outputs": [
    {
     "name": "stdout",
     "output_type": "stream",
     "text": [
      "CPU times: user 4 ms, sys: 0 ns, total: 4 ms\n",
      "Wall time: 2.28 s\n"
     ]
    },
    {
     "data": {
      "text/plain": [
       "142102L"
      ]
     },
     "execution_count": 7,
     "metadata": {},
     "output_type": "execute_result"
    }
   ],
   "source": [
    "%%time\n",
    "table.cassandraCount()"
   ]
  },
  {
   "cell_type": "code",
   "execution_count": 8,
   "metadata": {
    "collapsed": false
   },
   "outputs": [
    {
     "name": "stdout",
     "output_type": "stream",
     "text": [
      "CPU times: user 8 ms, sys: 0 ns, total: 8 ms\n",
      "Wall time: 4.59 s\n"
     ]
    },
    {
     "data": {
      "text/plain": [
       "142102"
      ]
     },
     "execution_count": 8,
     "metadata": {},
     "output_type": "execute_result"
    }
   ],
   "source": [
    "%%time\n",
    "table.count()"
   ]
  },
  {
   "cell_type": "code",
   "execution_count": 16,
   "metadata": {
    "collapsed": true
   },
   "outputs": [],
   "source": [
    "def check_bmi(x, threshold):\n",
    "    try:\n",
    "        return float(x) >= threshold\n",
    "    except:\n",
    "        return False\n",
    "    \n",
    "def check_height(x, threshold):\n",
    "    try:\n",
    "        return float(x.split()[0]) >= threshold\n",
    "    except:\n",
    "        return False"
   ]
  },
  {
   "cell_type": "code",
   "execution_count": 11,
   "metadata": {
    "collapsed": false
   },
   "outputs": [
    {
     "data": {
      "text/plain": [
       "[Row(bmi=u'20.89', height=u'5 ft 3 in'),\n",
       " Row(bmi=u'25.28', height=u'5 ft 8 in'),\n",
       " Row(bmi=None, height=None),\n",
       " Row(bmi=u'18.41', height=u'5 ft 6 in'),\n",
       " Row(bmi=u'27.04', height=u'5 ft 2.5 in')]"
      ]
     },
     "execution_count": 11,
     "metadata": {},
     "output_type": "execute_result"
    }
   ],
   "source": [
    "results = table.select('bmi', 'height')\n",
    "results.take(5)"
   ]
  },
  {
   "cell_type": "code",
   "execution_count": 13,
   "metadata": {
    "collapsed": false
   },
   "outputs": [
    {
     "data": {
      "text/plain": [
       "[Row(bmi=u'35.13', height=u'5 ft 8 in'),\n",
       " Row(bmi=u'40.00', height=u'5 ft 2 in'),\n",
       " Row(bmi=u'55.04', height=u'5 ft 3 in'),\n",
       " Row(bmi=u'47.02', height=u'5 ft 10 in'),\n",
       " Row(bmi=u'47.02', height=u'5 ft 10 in')]"
      ]
     },
     "execution_count": 13,
     "metadata": {},
     "output_type": "execute_result"
    }
   ],
   "source": [
    "filtered = results.filter(lambda x: check_bmi(x['bmi'], 35) and check_height(x['height'], 5))\n",
    "filtered.take(5)"
   ]
  },
  {
   "cell_type": "code",
   "execution_count": 24,
   "metadata": {
    "collapsed": false
   },
   "outputs": [
    {
     "name": "stdout",
     "output_type": "stream",
     "text": [
      "[(6.0, 1626), (5.0, 13995), (7.0, 3)]\n",
      "CPU times: user 0 ns, sys: 8 ms, total: 8 ms\n",
      "Wall time: 2.5 s\n"
     ]
    }
   ],
   "source": [
    "%%time\n",
    "def get_height(x):\n",
    "    try:\n",
    "        return float(x.split()[0])\n",
    "    except:\n",
    "        return 0\n",
    "\n",
    "print filtered.map(lambda x: (get_height(x['height']), 1)) \\\n",
    ".reduceByKey(lambda a, b: a + b) \\\n",
    ".collect()"
   ]
  }
 ],
 "metadata": {
  "kernelspec": {
   "display_name": "Python 2",
   "language": "python",
   "name": "python2"
  },
  "language_info": {
   "codemirror_mode": {
    "name": "ipython",
    "version": 2
   },
   "file_extension": ".py",
   "mimetype": "text/x-python",
   "name": "python",
   "nbconvert_exporter": "python",
   "pygments_lexer": "ipython2",
   "version": "2.7.10"
  }
 },
 "nbformat": 4,
 "nbformat_minor": 0
}
